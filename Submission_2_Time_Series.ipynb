{
  "nbformat": 4,
  "nbformat_minor": 0,
  "metadata": {
    "colab": {
      "name": "Submission 2: Time Series",
      "provenance": []
    },
    "kernelspec": {
      "name": "python3",
      "display_name": "Python 3"
    }
  },
  "cells": [
    {
      "cell_type": "code",
      "metadata": {
        "id": "49nAkgUsY_bf"
      },
      "source": [
        "import numpy as np\n",
        "import pandas as pd\n",
        "from keras.layers import Dense, LSTM\n",
        "import matplotlib.pyplot as plt\n",
        "import tensorflow as tf\n",
        "import datetime"
      ],
      "execution_count": 1,
      "outputs": []
    },
    {
      "cell_type": "code",
      "metadata": {
        "id": "JvFuN_xLY0zK",
        "outputId": "498ecf57-6218-4bbf-c850-6a98822f5c58",
        "colab": {
          "base_uri": "https://localhost:8080/",
          "height": 34
        }
      },
      "source": [
        "from google.colab import drive\n",
        "drive.mount('/content/drive')"
      ],
      "execution_count": 2,
      "outputs": [
        {
          "output_type": "stream",
          "text": [
            "Mounted at /content/drive\n"
          ],
          "name": "stdout"
        }
      ]
    },
    {
      "cell_type": "code",
      "metadata": {
        "id": "YA7Gwe9KZAND"
      },
      "source": [
        "cp \"/content/drive/My Drive/data/SolarPrediction.csv\" \"SolarPrediction.csv\""
      ],
      "execution_count": 3,
      "outputs": []
    },
    {
      "cell_type": "code",
      "metadata": {
        "id": "e_da5VpnZAQK",
        "outputId": "a6ab9232-3322-4b36-9b8b-4a9c5667d2ae",
        "colab": {
          "base_uri": "https://localhost:8080/",
          "height": 323
        }
      },
      "source": [
        "data_train = pd.read_csv('SolarPrediction.csv')\n",
        "data_train.info()"
      ],
      "execution_count": 4,
      "outputs": [
        {
          "output_type": "stream",
          "text": [
            "<class 'pandas.core.frame.DataFrame'>\n",
            "RangeIndex: 32686 entries, 0 to 32685\n",
            "Data columns (total 11 columns):\n",
            " #   Column                  Non-Null Count  Dtype  \n",
            "---  ------                  --------------  -----  \n",
            " 0   UNIXTime                32686 non-null  int64  \n",
            " 1   Data                    32686 non-null  object \n",
            " 2   Time                    32686 non-null  object \n",
            " 3   Radiation               32686 non-null  float64\n",
            " 4   Temperature             32686 non-null  int64  \n",
            " 5   Pressure                32686 non-null  float64\n",
            " 6   Humidity                32686 non-null  int64  \n",
            " 7   WindDirection(Degrees)  32686 non-null  float64\n",
            " 8   Speed                   32686 non-null  float64\n",
            " 9   TimeSunRise             32686 non-null  object \n",
            " 10  TimeSunSet              32686 non-null  object \n",
            "dtypes: float64(4), int64(3), object(4)\n",
            "memory usage: 2.7+ MB\n"
          ],
          "name": "stdout"
        }
      ]
    },
    {
      "cell_type": "code",
      "metadata": {
        "id": "cKByz2QwZXEQ",
        "outputId": "b70754b2-3d00-4197-cce3-ecd53080bdab",
        "colab": {
          "base_uri": "https://localhost:8080/",
          "height": 419
        }
      },
      "source": [
        "data_train"
      ],
      "execution_count": 5,
      "outputs": [
        {
          "output_type": "execute_result",
          "data": {
            "text/html": [
              "<div>\n",
              "<style scoped>\n",
              "    .dataframe tbody tr th:only-of-type {\n",
              "        vertical-align: middle;\n",
              "    }\n",
              "\n",
              "    .dataframe tbody tr th {\n",
              "        vertical-align: top;\n",
              "    }\n",
              "\n",
              "    .dataframe thead th {\n",
              "        text-align: right;\n",
              "    }\n",
              "</style>\n",
              "<table border=\"1\" class=\"dataframe\">\n",
              "  <thead>\n",
              "    <tr style=\"text-align: right;\">\n",
              "      <th></th>\n",
              "      <th>UNIXTime</th>\n",
              "      <th>Data</th>\n",
              "      <th>Time</th>\n",
              "      <th>Radiation</th>\n",
              "      <th>Temperature</th>\n",
              "      <th>Pressure</th>\n",
              "      <th>Humidity</th>\n",
              "      <th>WindDirection(Degrees)</th>\n",
              "      <th>Speed</th>\n",
              "      <th>TimeSunRise</th>\n",
              "      <th>TimeSunSet</th>\n",
              "    </tr>\n",
              "  </thead>\n",
              "  <tbody>\n",
              "    <tr>\n",
              "      <th>0</th>\n",
              "      <td>1475229326</td>\n",
              "      <td>9/29/2016 12:00:00 AM</td>\n",
              "      <td>23:55:26</td>\n",
              "      <td>1.21</td>\n",
              "      <td>48</td>\n",
              "      <td>30.46</td>\n",
              "      <td>59</td>\n",
              "      <td>177.39</td>\n",
              "      <td>5.62</td>\n",
              "      <td>06:13:00</td>\n",
              "      <td>18:13:00</td>\n",
              "    </tr>\n",
              "    <tr>\n",
              "      <th>1</th>\n",
              "      <td>1475229023</td>\n",
              "      <td>9/29/2016 12:00:00 AM</td>\n",
              "      <td>23:50:23</td>\n",
              "      <td>1.21</td>\n",
              "      <td>48</td>\n",
              "      <td>30.46</td>\n",
              "      <td>58</td>\n",
              "      <td>176.78</td>\n",
              "      <td>3.37</td>\n",
              "      <td>06:13:00</td>\n",
              "      <td>18:13:00</td>\n",
              "    </tr>\n",
              "    <tr>\n",
              "      <th>2</th>\n",
              "      <td>1475228726</td>\n",
              "      <td>9/29/2016 12:00:00 AM</td>\n",
              "      <td>23:45:26</td>\n",
              "      <td>1.23</td>\n",
              "      <td>48</td>\n",
              "      <td>30.46</td>\n",
              "      <td>57</td>\n",
              "      <td>158.75</td>\n",
              "      <td>3.37</td>\n",
              "      <td>06:13:00</td>\n",
              "      <td>18:13:00</td>\n",
              "    </tr>\n",
              "    <tr>\n",
              "      <th>3</th>\n",
              "      <td>1475228421</td>\n",
              "      <td>9/29/2016 12:00:00 AM</td>\n",
              "      <td>23:40:21</td>\n",
              "      <td>1.21</td>\n",
              "      <td>48</td>\n",
              "      <td>30.46</td>\n",
              "      <td>60</td>\n",
              "      <td>137.71</td>\n",
              "      <td>3.37</td>\n",
              "      <td>06:13:00</td>\n",
              "      <td>18:13:00</td>\n",
              "    </tr>\n",
              "    <tr>\n",
              "      <th>4</th>\n",
              "      <td>1475228124</td>\n",
              "      <td>9/29/2016 12:00:00 AM</td>\n",
              "      <td>23:35:24</td>\n",
              "      <td>1.17</td>\n",
              "      <td>48</td>\n",
              "      <td>30.46</td>\n",
              "      <td>62</td>\n",
              "      <td>104.95</td>\n",
              "      <td>5.62</td>\n",
              "      <td>06:13:00</td>\n",
              "      <td>18:13:00</td>\n",
              "    </tr>\n",
              "    <tr>\n",
              "      <th>...</th>\n",
              "      <td>...</td>\n",
              "      <td>...</td>\n",
              "      <td>...</td>\n",
              "      <td>...</td>\n",
              "      <td>...</td>\n",
              "      <td>...</td>\n",
              "      <td>...</td>\n",
              "      <td>...</td>\n",
              "      <td>...</td>\n",
              "      <td>...</td>\n",
              "      <td>...</td>\n",
              "    </tr>\n",
              "    <tr>\n",
              "      <th>32681</th>\n",
              "      <td>1480587604</td>\n",
              "      <td>12/1/2016 12:00:00 AM</td>\n",
              "      <td>00:20:04</td>\n",
              "      <td>1.22</td>\n",
              "      <td>44</td>\n",
              "      <td>30.43</td>\n",
              "      <td>102</td>\n",
              "      <td>145.42</td>\n",
              "      <td>6.75</td>\n",
              "      <td>06:41:00</td>\n",
              "      <td>17:42:00</td>\n",
              "    </tr>\n",
              "    <tr>\n",
              "      <th>32682</th>\n",
              "      <td>1480587301</td>\n",
              "      <td>12/1/2016 12:00:00 AM</td>\n",
              "      <td>00:15:01</td>\n",
              "      <td>1.17</td>\n",
              "      <td>44</td>\n",
              "      <td>30.42</td>\n",
              "      <td>102</td>\n",
              "      <td>117.78</td>\n",
              "      <td>6.75</td>\n",
              "      <td>06:41:00</td>\n",
              "      <td>17:42:00</td>\n",
              "    </tr>\n",
              "    <tr>\n",
              "      <th>32683</th>\n",
              "      <td>1480587001</td>\n",
              "      <td>12/1/2016 12:00:00 AM</td>\n",
              "      <td>00:10:01</td>\n",
              "      <td>1.20</td>\n",
              "      <td>44</td>\n",
              "      <td>30.42</td>\n",
              "      <td>102</td>\n",
              "      <td>145.19</td>\n",
              "      <td>9.00</td>\n",
              "      <td>06:41:00</td>\n",
              "      <td>17:42:00</td>\n",
              "    </tr>\n",
              "    <tr>\n",
              "      <th>32684</th>\n",
              "      <td>1480586702</td>\n",
              "      <td>12/1/2016 12:00:00 AM</td>\n",
              "      <td>00:05:02</td>\n",
              "      <td>1.23</td>\n",
              "      <td>44</td>\n",
              "      <td>30.42</td>\n",
              "      <td>101</td>\n",
              "      <td>164.19</td>\n",
              "      <td>7.87</td>\n",
              "      <td>06:41:00</td>\n",
              "      <td>17:42:00</td>\n",
              "    </tr>\n",
              "    <tr>\n",
              "      <th>32685</th>\n",
              "      <td>1480586402</td>\n",
              "      <td>12/1/2016 12:00:00 AM</td>\n",
              "      <td>00:00:02</td>\n",
              "      <td>1.20</td>\n",
              "      <td>44</td>\n",
              "      <td>30.43</td>\n",
              "      <td>101</td>\n",
              "      <td>83.59</td>\n",
              "      <td>3.37</td>\n",
              "      <td>06:41:00</td>\n",
              "      <td>17:42:00</td>\n",
              "    </tr>\n",
              "  </tbody>\n",
              "</table>\n",
              "<p>32686 rows × 11 columns</p>\n",
              "</div>"
            ],
            "text/plain": [
              "         UNIXTime                   Data  ... TimeSunRise  TimeSunSet\n",
              "0      1475229326  9/29/2016 12:00:00 AM  ...    06:13:00    18:13:00\n",
              "1      1475229023  9/29/2016 12:00:00 AM  ...    06:13:00    18:13:00\n",
              "2      1475228726  9/29/2016 12:00:00 AM  ...    06:13:00    18:13:00\n",
              "3      1475228421  9/29/2016 12:00:00 AM  ...    06:13:00    18:13:00\n",
              "4      1475228124  9/29/2016 12:00:00 AM  ...    06:13:00    18:13:00\n",
              "...           ...                    ...  ...         ...         ...\n",
              "32681  1480587604  12/1/2016 12:00:00 AM  ...    06:41:00    17:42:00\n",
              "32682  1480587301  12/1/2016 12:00:00 AM  ...    06:41:00    17:42:00\n",
              "32683  1480587001  12/1/2016 12:00:00 AM  ...    06:41:00    17:42:00\n",
              "32684  1480586702  12/1/2016 12:00:00 AM  ...    06:41:00    17:42:00\n",
              "32685  1480586402  12/1/2016 12:00:00 AM  ...    06:41:00    17:42:00\n",
              "\n",
              "[32686 rows x 11 columns]"
            ]
          },
          "metadata": {
            "tags": []
          },
          "execution_count": 5
        }
      ]
    },
    {
      "cell_type": "code",
      "metadata": {
        "id": "2kLc0pdPiCs4",
        "outputId": "eb4b312e-e835-4841-ffef-1dbfbd1123a1",
        "colab": {
          "base_uri": "https://localhost:8080/",
          "height": 255
        }
      },
      "source": [
        "data_train[\"Data\"] = pd.to_datetime(data_train[\"Data\"]).dt.strftime('%Y-%m-%d')\n",
        "print(data_train)"
      ],
      "execution_count": 6,
      "outputs": [
        {
          "output_type": "stream",
          "text": [
            "         UNIXTime        Data      Time  ...  Speed  TimeSunRise  TimeSunSet\n",
            "0      1475229326  2016-09-29  23:55:26  ...   5.62     06:13:00    18:13:00\n",
            "1      1475229023  2016-09-29  23:50:23  ...   3.37     06:13:00    18:13:00\n",
            "2      1475228726  2016-09-29  23:45:26  ...   3.37     06:13:00    18:13:00\n",
            "3      1475228421  2016-09-29  23:40:21  ...   3.37     06:13:00    18:13:00\n",
            "4      1475228124  2016-09-29  23:35:24  ...   5.62     06:13:00    18:13:00\n",
            "...           ...         ...       ...  ...    ...          ...         ...\n",
            "32681  1480587604  2016-12-01  00:20:04  ...   6.75     06:41:00    17:42:00\n",
            "32682  1480587301  2016-12-01  00:15:01  ...   6.75     06:41:00    17:42:00\n",
            "32683  1480587001  2016-12-01  00:10:01  ...   9.00     06:41:00    17:42:00\n",
            "32684  1480586702  2016-12-01  00:05:02  ...   7.87     06:41:00    17:42:00\n",
            "32685  1480586402  2016-12-01  00:00:02  ...   3.37     06:41:00    17:42:00\n",
            "\n",
            "[32686 rows x 11 columns]\n"
          ],
          "name": "stdout"
        }
      ]
    },
    {
      "cell_type": "code",
      "metadata": {
        "id": "N1PccPxEncKz",
        "outputId": "cb19a734-013e-43d6-8f35-1c209469e5da",
        "colab": {
          "base_uri": "https://localhost:8080/",
          "height": 255
        }
      },
      "source": [
        "data_train['Date/Time'] = data_train['Data'].map(str) + ' ' + data_train['Time'].map(str)\n",
        "print (data_train)"
      ],
      "execution_count": 7,
      "outputs": [
        {
          "output_type": "stream",
          "text": [
            "         UNIXTime        Data  ... TimeSunSet            Date/Time\n",
            "0      1475229326  2016-09-29  ...   18:13:00  2016-09-29 23:55:26\n",
            "1      1475229023  2016-09-29  ...   18:13:00  2016-09-29 23:50:23\n",
            "2      1475228726  2016-09-29  ...   18:13:00  2016-09-29 23:45:26\n",
            "3      1475228421  2016-09-29  ...   18:13:00  2016-09-29 23:40:21\n",
            "4      1475228124  2016-09-29  ...   18:13:00  2016-09-29 23:35:24\n",
            "...           ...         ...  ...        ...                  ...\n",
            "32681  1480587604  2016-12-01  ...   17:42:00  2016-12-01 00:20:04\n",
            "32682  1480587301  2016-12-01  ...   17:42:00  2016-12-01 00:15:01\n",
            "32683  1480587001  2016-12-01  ...   17:42:00  2016-12-01 00:10:01\n",
            "32684  1480586702  2016-12-01  ...   17:42:00  2016-12-01 00:05:02\n",
            "32685  1480586402  2016-12-01  ...   17:42:00  2016-12-01 00:00:02\n",
            "\n",
            "[32686 rows x 12 columns]\n"
          ],
          "name": "stdout"
        }
      ]
    },
    {
      "cell_type": "code",
      "metadata": {
        "id": "DZgMQTCZZAWf"
      },
      "source": [
        "data_train = data_train.drop(columns=['UNIXTime', 'Data', 'Time', 'Temperature', 'Pressure', 'Humidity', 'WindDirection(Degrees)', 'Speed', 'TimeSunRise', 'TimeSunSet'])"
      ],
      "execution_count": 8,
      "outputs": []
    },
    {
      "cell_type": "code",
      "metadata": {
        "id": "YoYyawePn5dd",
        "outputId": "1436495e-2ecf-4942-afbc-2fee225ec6eb",
        "colab": {
          "base_uri": "https://localhost:8080/",
          "height": 419
        }
      },
      "source": [
        "data_train"
      ],
      "execution_count": 9,
      "outputs": [
        {
          "output_type": "execute_result",
          "data": {
            "text/html": [
              "<div>\n",
              "<style scoped>\n",
              "    .dataframe tbody tr th:only-of-type {\n",
              "        vertical-align: middle;\n",
              "    }\n",
              "\n",
              "    .dataframe tbody tr th {\n",
              "        vertical-align: top;\n",
              "    }\n",
              "\n",
              "    .dataframe thead th {\n",
              "        text-align: right;\n",
              "    }\n",
              "</style>\n",
              "<table border=\"1\" class=\"dataframe\">\n",
              "  <thead>\n",
              "    <tr style=\"text-align: right;\">\n",
              "      <th></th>\n",
              "      <th>Radiation</th>\n",
              "      <th>Date/Time</th>\n",
              "    </tr>\n",
              "  </thead>\n",
              "  <tbody>\n",
              "    <tr>\n",
              "      <th>0</th>\n",
              "      <td>1.21</td>\n",
              "      <td>2016-09-29 23:55:26</td>\n",
              "    </tr>\n",
              "    <tr>\n",
              "      <th>1</th>\n",
              "      <td>1.21</td>\n",
              "      <td>2016-09-29 23:50:23</td>\n",
              "    </tr>\n",
              "    <tr>\n",
              "      <th>2</th>\n",
              "      <td>1.23</td>\n",
              "      <td>2016-09-29 23:45:26</td>\n",
              "    </tr>\n",
              "    <tr>\n",
              "      <th>3</th>\n",
              "      <td>1.21</td>\n",
              "      <td>2016-09-29 23:40:21</td>\n",
              "    </tr>\n",
              "    <tr>\n",
              "      <th>4</th>\n",
              "      <td>1.17</td>\n",
              "      <td>2016-09-29 23:35:24</td>\n",
              "    </tr>\n",
              "    <tr>\n",
              "      <th>...</th>\n",
              "      <td>...</td>\n",
              "      <td>...</td>\n",
              "    </tr>\n",
              "    <tr>\n",
              "      <th>32681</th>\n",
              "      <td>1.22</td>\n",
              "      <td>2016-12-01 00:20:04</td>\n",
              "    </tr>\n",
              "    <tr>\n",
              "      <th>32682</th>\n",
              "      <td>1.17</td>\n",
              "      <td>2016-12-01 00:15:01</td>\n",
              "    </tr>\n",
              "    <tr>\n",
              "      <th>32683</th>\n",
              "      <td>1.20</td>\n",
              "      <td>2016-12-01 00:10:01</td>\n",
              "    </tr>\n",
              "    <tr>\n",
              "      <th>32684</th>\n",
              "      <td>1.23</td>\n",
              "      <td>2016-12-01 00:05:02</td>\n",
              "    </tr>\n",
              "    <tr>\n",
              "      <th>32685</th>\n",
              "      <td>1.20</td>\n",
              "      <td>2016-12-01 00:00:02</td>\n",
              "    </tr>\n",
              "  </tbody>\n",
              "</table>\n",
              "<p>32686 rows × 2 columns</p>\n",
              "</div>"
            ],
            "text/plain": [
              "       Radiation            Date/Time\n",
              "0           1.21  2016-09-29 23:55:26\n",
              "1           1.21  2016-09-29 23:50:23\n",
              "2           1.23  2016-09-29 23:45:26\n",
              "3           1.21  2016-09-29 23:40:21\n",
              "4           1.17  2016-09-29 23:35:24\n",
              "...          ...                  ...\n",
              "32681       1.22  2016-12-01 00:20:04\n",
              "32682       1.17  2016-12-01 00:15:01\n",
              "32683       1.20  2016-12-01 00:10:01\n",
              "32684       1.23  2016-12-01 00:05:02\n",
              "32685       1.20  2016-12-01 00:00:02\n",
              "\n",
              "[32686 rows x 2 columns]"
            ]
          },
          "metadata": {
            "tags": []
          },
          "execution_count": 9
        }
      ]
    },
    {
      "cell_type": "code",
      "metadata": {
        "id": "zvcZEsTy_J-6"
      },
      "source": [
        "data_train[\"Date/Time\"] = pd.to_datetime(data_train[\"Date/Time\"])\n",
        "time_mask = (data_train['Date/Time'].dt.month >= 9) & \\\n",
        "            (data_train['Date/Time'].dt.month <= 10)"
      ],
      "execution_count": 18,
      "outputs": []
    },
    {
      "cell_type": "code",
      "metadata": {
        "id": "lwLISitSZAcM",
        "outputId": "04334075-7983-4b77-bc40-806f9b7430b2",
        "colab": {
          "base_uri": "https://localhost:8080/",
          "height": 68
        }
      },
      "source": [
        "data_train[time_mask].isnull().sum()"
      ],
      "execution_count": 19,
      "outputs": [
        {
          "output_type": "execute_result",
          "data": {
            "text/plain": [
              "Radiation    0\n",
              "Date/Time    0\n",
              "dtype: int64"
            ]
          },
          "metadata": {
            "tags": []
          },
          "execution_count": 19
        }
      ]
    },
    {
      "cell_type": "code",
      "metadata": {
        "id": "NqcAB1Wo_gSd",
        "outputId": "45b03c4b-070c-4663-e8a8-1d7916cd94fb",
        "colab": {
          "base_uri": "https://localhost:8080/",
          "height": 419
        }
      },
      "source": [
        "data_train[time_mask]"
      ],
      "execution_count": 20,
      "outputs": [
        {
          "output_type": "execute_result",
          "data": {
            "text/html": [
              "<div>\n",
              "<style scoped>\n",
              "    .dataframe tbody tr th:only-of-type {\n",
              "        vertical-align: middle;\n",
              "    }\n",
              "\n",
              "    .dataframe tbody tr th {\n",
              "        vertical-align: top;\n",
              "    }\n",
              "\n",
              "    .dataframe thead th {\n",
              "        text-align: right;\n",
              "    }\n",
              "</style>\n",
              "<table border=\"1\" class=\"dataframe\">\n",
              "  <thead>\n",
              "    <tr style=\"text-align: right;\">\n",
              "      <th></th>\n",
              "      <th>Radiation</th>\n",
              "      <th>Date/Time</th>\n",
              "    </tr>\n",
              "  </thead>\n",
              "  <tbody>\n",
              "    <tr>\n",
              "      <th>0</th>\n",
              "      <td>1.21</td>\n",
              "      <td>2016-09-29 23:55:26</td>\n",
              "    </tr>\n",
              "    <tr>\n",
              "      <th>1</th>\n",
              "      <td>1.21</td>\n",
              "      <td>2016-09-29 23:50:23</td>\n",
              "    </tr>\n",
              "    <tr>\n",
              "      <th>2</th>\n",
              "      <td>1.23</td>\n",
              "      <td>2016-09-29 23:45:26</td>\n",
              "    </tr>\n",
              "    <tr>\n",
              "      <th>3</th>\n",
              "      <td>1.21</td>\n",
              "      <td>2016-09-29 23:40:21</td>\n",
              "    </tr>\n",
              "    <tr>\n",
              "      <th>4</th>\n",
              "      <td>1.17</td>\n",
              "      <td>2016-09-29 23:35:24</td>\n",
              "    </tr>\n",
              "    <tr>\n",
              "      <th>...</th>\n",
              "      <td>...</td>\n",
              "      <td>...</td>\n",
              "    </tr>\n",
              "    <tr>\n",
              "      <th>16233</th>\n",
              "      <td>1.25</td>\n",
              "      <td>2016-10-01 00:40:24</td>\n",
              "    </tr>\n",
              "    <tr>\n",
              "      <th>16234</th>\n",
              "      <td>1.24</td>\n",
              "      <td>2016-10-01 00:35:22</td>\n",
              "    </tr>\n",
              "    <tr>\n",
              "      <th>16235</th>\n",
              "      <td>1.27</td>\n",
              "      <td>2016-10-01 00:30:18</td>\n",
              "    </tr>\n",
              "    <tr>\n",
              "      <th>16236</th>\n",
              "      <td>1.29</td>\n",
              "      <td>2016-10-01 00:20:20</td>\n",
              "    </tr>\n",
              "    <tr>\n",
              "      <th>16237</th>\n",
              "      <td>1.27</td>\n",
              "      <td>2016-10-01 00:00:19</td>\n",
              "    </tr>\n",
              "  </tbody>\n",
              "</table>\n",
              "<p>16238 rows × 2 columns</p>\n",
              "</div>"
            ],
            "text/plain": [
              "       Radiation           Date/Time\n",
              "0           1.21 2016-09-29 23:55:26\n",
              "1           1.21 2016-09-29 23:50:23\n",
              "2           1.23 2016-09-29 23:45:26\n",
              "3           1.21 2016-09-29 23:40:21\n",
              "4           1.17 2016-09-29 23:35:24\n",
              "...          ...                 ...\n",
              "16233       1.25 2016-10-01 00:40:24\n",
              "16234       1.24 2016-10-01 00:35:22\n",
              "16235       1.27 2016-10-01 00:30:18\n",
              "16236       1.29 2016-10-01 00:20:20\n",
              "16237       1.27 2016-10-01 00:00:19\n",
              "\n",
              "[16238 rows x 2 columns]"
            ]
          },
          "metadata": {
            "tags": []
          },
          "execution_count": 20
        }
      ]
    },
    {
      "cell_type": "code",
      "metadata": {
        "id": "0LIPp_-nQmy8",
        "outputId": "54d69b11-cd6a-4ecc-f411-39f66f9ff203",
        "colab": {
          "base_uri": "https://localhost:8080/",
          "height": 111
        }
      },
      "source": [
        "data_train[time_mask][data_train[time_mask]['Radiation']==data_train[time_mask]['Radiation'].min()]"
      ],
      "execution_count": 21,
      "outputs": [
        {
          "output_type": "execute_result",
          "data": {
            "text/html": [
              "<div>\n",
              "<style scoped>\n",
              "    .dataframe tbody tr th:only-of-type {\n",
              "        vertical-align: middle;\n",
              "    }\n",
              "\n",
              "    .dataframe tbody tr th {\n",
              "        vertical-align: top;\n",
              "    }\n",
              "\n",
              "    .dataframe thead th {\n",
              "        text-align: right;\n",
              "    }\n",
              "</style>\n",
              "<table border=\"1\" class=\"dataframe\">\n",
              "  <thead>\n",
              "    <tr style=\"text-align: right;\">\n",
              "      <th></th>\n",
              "      <th>Radiation</th>\n",
              "      <th>Date/Time</th>\n",
              "    </tr>\n",
              "  </thead>\n",
              "  <tbody>\n",
              "    <tr>\n",
              "      <th>9137</th>\n",
              "      <td>1.13</td>\n",
              "      <td>2016-10-26 00:20:18</td>\n",
              "    </tr>\n",
              "    <tr>\n",
              "      <th>10023</th>\n",
              "      <td>1.13</td>\n",
              "      <td>2016-10-22 22:05:20</td>\n",
              "    </tr>\n",
              "  </tbody>\n",
              "</table>\n",
              "</div>"
            ],
            "text/plain": [
              "       Radiation           Date/Time\n",
              "9137        1.13 2016-10-26 00:20:18\n",
              "10023       1.13 2016-10-22 22:05:20"
            ]
          },
          "metadata": {
            "tags": []
          },
          "execution_count": 21
        }
      ]
    },
    {
      "cell_type": "code",
      "metadata": {
        "id": "GzplvxEuQMm3",
        "outputId": "cbc1411e-3b23-49fe-ac30-4c2809f8810e",
        "colab": {
          "base_uri": "https://localhost:8080/",
          "height": 80
        }
      },
      "source": [
        "data_train[time_mask][data_train[time_mask]['Radiation']==data_train[time_mask]['Radiation'].max()]"
      ],
      "execution_count": 14,
      "outputs": [
        {
          "output_type": "execute_result",
          "data": {
            "text/html": [
              "<div>\n",
              "<style scoped>\n",
              "    .dataframe tbody tr th:only-of-type {\n",
              "        vertical-align: middle;\n",
              "    }\n",
              "\n",
              "    .dataframe tbody tr th {\n",
              "        vertical-align: top;\n",
              "    }\n",
              "\n",
              "    .dataframe thead th {\n",
              "        text-align: right;\n",
              "    }\n",
              "</style>\n",
              "<table border=\"1\" class=\"dataframe\">\n",
              "  <thead>\n",
              "    <tr style=\"text-align: right;\">\n",
              "      <th></th>\n",
              "      <th>Radiation</th>\n",
              "      <th>Date/Time</th>\n",
              "    </tr>\n",
              "  </thead>\n",
              "  <tbody>\n",
              "    <tr>\n",
              "      <th>6465</th>\n",
              "      <td>1601.26</td>\n",
              "      <td>2016-09-04 12:15:04</td>\n",
              "    </tr>\n",
              "  </tbody>\n",
              "</table>\n",
              "</div>"
            ],
            "text/plain": [
              "      Radiation           Date/Time\n",
              "6465    1601.26 2016-09-04 12:15:04"
            ]
          },
          "metadata": {
            "tags": []
          },
          "execution_count": 14
        }
      ]
    },
    {
      "cell_type": "code",
      "metadata": {
        "id": "30XIa2wQu4yy"
      },
      "source": [
        "datetime = data_train[time_mask]['Date/Time'].values\n",
        "radiation  = data_train[time_mask]['Radiation'].values"
      ],
      "execution_count": 22,
      "outputs": []
    },
    {
      "cell_type": "code",
      "metadata": {
        "id": "8iQrWLOSsk5l",
        "outputId": "e98cc1a2-ff34-4839-c6ef-98c2ce6ba5de",
        "colab": {
          "base_uri": "https://localhost:8080/",
          "height": 341
        }
      },
      "source": [
        "plt.figure(figsize=(15,5))\n",
        "plt.plot(datetime, radiation)\n",
        "plt.title('Radiation average',\n",
        "          fontsize=20);"
      ],
      "execution_count": 23,
      "outputs": [
        {
          "output_type": "display_data",
          "data": {
            "image/png": "[encoded data removed]",
            "text/plain": [
              "<Figure size 1080x360 with 1 Axes>"
            ]
          },
          "metadata": {
            "tags": [],
            "needs_background": "light"
          }
        }
      ]
    },
    {
      "cell_type": "code",
      "metadata": {
        "id": "jKNtZpWzuhaG"
      },
      "source": [
        "split_time = int(len(datetime)*0.8)\n",
        "time_train = datetime[:split_time]\n",
        "x_train = radiation[:split_time]\n",
        "time_valid = datetime[split_time:]\n",
        "x_valid = radiation[split_time:]\n",
        "\n",
        "window_size = 30\n",
        "batch_size = 32\n",
        "shuffle_buffer_size = 1000"
      ],
      "execution_count": 24,
      "outputs": []
    },
    {
      "cell_type": "code",
      "metadata": {
        "id": "S-q2wKu1t3EC"
      },
      "source": [
        "def windowed_dataset(series, window_size, batch_size, shuffle_buffer):\n",
        "    series = tf.expand_dims(series, axis=-1)\n",
        "    ds = tf.data.Dataset.from_tensor_slices(series)\n",
        "    ds = ds.window(window_size + 1, shift=1, drop_remainder=True)\n",
        "    ds = ds.flat_map(lambda w: w.batch(window_size + 1))\n",
        "    ds = ds.shuffle(shuffle_buffer)\n",
        "    ds = ds.map(lambda w: (w[:-1], w[-1:]))\n",
        "    return ds.batch(batch_size).prefetch(1)"
      ],
      "execution_count": 25,
      "outputs": []
    },
    {
      "cell_type": "code",
      "metadata": {
        "id": "H2gZzPL7tEjb"
      },
      "source": [
        "def model_forecast(model, temp, window_size):\n",
        "    ds = tf.data.Dataset.from_tensor_slices(temp)\n",
        "    ds = ds.window(window_size, shift=1, drop_remainder=True)\n",
        "    ds = ds.flat_map(lambda w: w.batch(window_size))\n",
        "    ds = ds.batch(32).prefetch(-1)\n",
        "    forecast = model.predict(ds)\n",
        "    return forecast"
      ],
      "execution_count": 26,
      "outputs": []
    },
    {
      "cell_type": "code",
      "metadata": {
        "id": "l2L_q7X-tEra"
      },
      "source": [
        "train_set = windowed_dataset(x_train, window_size=64, batch_size=200, shuffle_buffer=1000)\n",
        "\n",
        "model = tf.keras.models.Sequential([\n",
        "  tf.keras.layers.Bidirectional(LSTM(60, return_sequences=True)),\n",
        "  tf.keras.layers.Bidirectional(LSTM(60)),\n",
        "  tf.keras.layers.Dense(30, activation=\"relu\"),\n",
        "  tf.keras.layers.Dropout(0.7),\n",
        "  tf.keras.layers.Dense(10, activation=\"relu\"),\n",
        "  tf.keras.layers.Dense(10, activation=\"relu\"),\n",
        "  tf.keras.layers.Dense(1),\n",
        "])"
      ],
      "execution_count": 27,
      "outputs": []
    },
    {
      "cell_type": "code",
      "metadata": {
        "id": "j-LrSI5w2Rd2"
      },
      "source": [
        "class myCallback(tf.keras.callbacks.Callback):\n",
        "  def on_epoch_end(self, epoch, logs={}):\n",
        "    if(logs.get('mae')<160):\n",
        "      print(\"\\nMAE dari model < 10% skala data\")\n",
        "      self.model.stop_training = True\n",
        "callbacks = myCallback()"
      ],
      "execution_count": 29,
      "outputs": []
    },
    {
      "cell_type": "code",
      "metadata": {
        "id": "IlYteWfdtEpt",
        "outputId": "cc52afdd-0819-46b4-88ff-3728bc760913",
        "colab": {
          "base_uri": "https://localhost:8080/",
          "height": 1000
        }
      },
      "source": [
        "optimizer = tf.keras.optimizers.SGD(lr=1.0000e-05, momentum=0.9)\n",
        "model.compile(loss=tf.keras.losses.Huber(),\n",
        "              optimizer=optimizer,\n",
        "              metrics=[\"mae\"])\n",
        "history = model.fit(train_set,epochs=500, callbacks=[callbacks])"
      ],
      "execution_count": 30,
      "outputs": [
        {
          "output_type": "stream",
          "text": [
            "Epoch 1/500\n",
            "WARNING:tensorflow:Layer bidirectional is casting an input tensor from dtype float64 to the layer's dtype of float32, which is new behavior in TensorFlow 2.  The layer has dtype float32 because its dtype defaults to floatx.\n",
            "\n",
            "If you intended to run this layer in float32, you can safely ignore this warning. If in doubt, this warning is likely only an issue if you are porting a TensorFlow 1.X model to TensorFlow 2.\n",
            "\n",
            "To change all layers to have dtype float64 by default, call `tf.keras.backend.set_floatx('float64')`. To change just this layer, pass dtype='float64' to the layer constructor. If you are the author of this layer, you can disable autocasting by passing autocast=False to the base Layer constructor.\n",
            "\n",
            "65/65 [==============================] - 26s 407ms/step - loss: 236.3662 - mae: 236.8660\n",
            "Epoch 2/500\n",
            "65/65 [==============================] - 27s 413ms/step - loss: 236.3450 - mae: 236.8448\n",
            "Epoch 3/500\n",
            "65/65 [==============================] - 35s 532ms/step - loss: 236.3212 - mae: 236.8209\n",
            "Epoch 4/500\n",
            "65/65 [==============================] - 27s 415ms/step - loss: 236.2908 - mae: 236.7903\n",
            "Epoch 5/500\n",
            "65/65 [==============================] - 27s 416ms/step - loss: 236.2592 - mae: 236.7583\n",
            "Epoch 6/500\n",
            "65/65 [==============================] - 27s 417ms/step - loss: 236.2279 - mae: 236.7263\n",
            "Epoch 7/500\n",
            "65/65 [==============================] - 27s 411ms/step - loss: 236.1982 - mae: 236.6958\n",
            "Epoch 8/500\n",
            "65/65 [==============================] - 26s 406ms/step - loss: 236.1643 - mae: 236.6612\n",
            "Epoch 9/500\n",
            "65/65 [==============================] - 26s 405ms/step - loss: 236.1326 - mae: 236.6288\n",
            "Epoch 10/500\n",
            "65/65 [==============================] - 27s 409ms/step - loss: 236.1027 - mae: 236.5974\n",
            "Epoch 11/500\n",
            "65/65 [==============================] - 26s 407ms/step - loss: 236.0685 - mae: 236.5618\n",
            "Epoch 12/500\n",
            "65/65 [==============================] - 26s 407ms/step - loss: 236.0285 - mae: 236.5199\n",
            "Epoch 13/500\n",
            "65/65 [==============================] - 27s 412ms/step - loss: 235.9803 - mae: 236.4687\n",
            "Epoch 14/500\n",
            "65/65 [==============================] - 27s 414ms/step - loss: 235.9435 - mae: 236.4295\n",
            "Epoch 15/500\n",
            "65/65 [==============================] - 27s 414ms/step - loss: 235.9047 - mae: 236.3890\n",
            "Epoch 16/500\n",
            "65/65 [==============================] - 27s 412ms/step - loss: 235.8611 - mae: 236.3421\n",
            "Epoch 17/500\n",
            "65/65 [==============================] - 27s 412ms/step - loss: 235.8271 - mae: 236.3058\n",
            "Epoch 18/500\n",
            "65/65 [==============================] - 27s 411ms/step - loss: 235.7836 - mae: 236.2598\n",
            "Epoch 19/500\n",
            "65/65 [==============================] - 27s 410ms/step - loss: 235.7441 - mae: 236.2171\n",
            "Epoch 20/500\n",
            "65/65 [==============================] - 27s 413ms/step - loss: 235.7011 - mae: 236.1711\n",
            "Epoch 21/500\n",
            "65/65 [==============================] - 27s 423ms/step - loss: 235.6521 - mae: 236.1181\n",
            "Epoch 22/500\n",
            "65/65 [==============================] - 27s 408ms/step - loss: 235.6059 - mae: 236.0659\n",
            "Epoch 23/500\n",
            "65/65 [==============================] - 27s 410ms/step - loss: 235.5648 - mae: 236.0224\n",
            "Epoch 24/500\n",
            "65/65 [==============================] - 27s 408ms/step - loss: 235.5168 - mae: 235.9685\n",
            "Epoch 25/500\n",
            "65/65 [==============================] - 27s 412ms/step - loss: 235.4741 - mae: 235.9225\n",
            "Epoch 26/500\n",
            "65/65 [==============================] - 27s 409ms/step - loss: 235.4218 - mae: 235.8643\n",
            "Epoch 27/500\n",
            "65/65 [==============================] - 27s 411ms/step - loss: 235.3865 - mae: 235.8239\n",
            "Epoch 28/500\n",
            "65/65 [==============================] - 27s 416ms/step - loss: 235.3393 - mae: 235.7724\n",
            "Epoch 29/500\n",
            "65/65 [==============================] - 26s 406ms/step - loss: 235.3047 - mae: 235.7346\n",
            "Epoch 30/500\n",
            "65/65 [==============================] - 26s 405ms/step - loss: 235.2436 - mae: 235.6680\n",
            "Epoch 31/500\n",
            "65/65 [==============================] - 27s 411ms/step - loss: 235.2021 - mae: 235.6236\n",
            "Epoch 32/500\n",
            "65/65 [==============================] - 27s 416ms/step - loss: 235.1509 - mae: 235.5670\n",
            "Epoch 33/500\n",
            "65/65 [==============================] - 27s 409ms/step - loss: 235.1153 - mae: 235.5304\n",
            "Epoch 34/500\n",
            "65/65 [==============================] - 26s 407ms/step - loss: 235.0641 - mae: 235.4747\n",
            "Epoch 35/500\n",
            "65/65 [==============================] - 27s 408ms/step - loss: 235.0266 - mae: 235.4365\n",
            "Epoch 36/500\n",
            "65/65 [==============================] - 27s 411ms/step - loss: 234.9644 - mae: 235.3719\n",
            "Epoch 37/500\n",
            "65/65 [==============================] - 27s 409ms/step - loss: 234.9262 - mae: 235.3335\n",
            "Epoch 38/500\n",
            "65/65 [==============================] - 27s 411ms/step - loss: 234.8789 - mae: 235.2875\n",
            "Epoch 39/500\n",
            "65/65 [==============================] - 26s 403ms/step - loss: 234.8353 - mae: 235.2450\n",
            "Epoch 40/500\n",
            "65/65 [==============================] - 26s 402ms/step - loss: 234.7829 - mae: 235.1941\n",
            "Epoch 41/500\n",
            "65/65 [==============================] - 27s 409ms/step - loss: 234.7450 - mae: 235.1598\n",
            "Epoch 42/500\n",
            "65/65 [==============================] - 27s 408ms/step - loss: 234.7061 - mae: 235.1239\n",
            "Epoch 43/500\n",
            "65/65 [==============================] - 27s 410ms/step - loss: 234.6467 - mae: 235.0664\n",
            "Epoch 44/500\n",
            "65/65 [==============================] - 27s 419ms/step - loss: 234.5998 - mae: 235.0207\n",
            "Epoch 45/500\n",
            "65/65 [==============================] - 27s 408ms/step - loss: 234.5607 - mae: 234.9852\n",
            "Epoch 46/500\n",
            "65/65 [==============================] - 27s 409ms/step - loss: 234.5116 - mae: 234.9404\n",
            "Epoch 47/500\n",
            "65/65 [==============================] - 27s 411ms/step - loss: 234.4607 - mae: 234.8918\n",
            "Epoch 48/500\n",
            "65/65 [==============================] - 27s 408ms/step - loss: 234.4325 - mae: 234.8647\n",
            "Epoch 49/500\n",
            "65/65 [==============================] - 26s 404ms/step - loss: 234.3728 - mae: 234.8079\n",
            "Epoch 50/500\n",
            "65/65 [==============================] - 27s 408ms/step - loss: 234.3374 - mae: 234.7755\n",
            "Epoch 51/500\n",
            "65/65 [==============================] - 27s 408ms/step - loss: 234.2684 - mae: 234.7076\n",
            "Epoch 52/500\n",
            "65/65 [==============================] - 27s 409ms/step - loss: 234.2204 - mae: 234.6631\n",
            "Epoch 53/500\n",
            "65/65 [==============================] - 27s 410ms/step - loss: 234.1613 - mae: 234.6045\n",
            "Epoch 54/500\n",
            "65/65 [==============================] - 27s 421ms/step - loss: 234.1184 - mae: 234.5646\n",
            "Epoch 55/500\n",
            "65/65 [==============================] - 27s 420ms/step - loss: 234.0515 - mae: 234.4980\n",
            "Epoch 56/500\n",
            "65/65 [==============================] - 27s 415ms/step - loss: 233.9793 - mae: 234.4279\n",
            "Epoch 57/500\n",
            "65/65 [==============================] - 27s 411ms/step - loss: 233.9285 - mae: 234.3793\n",
            "Epoch 58/500\n",
            "65/65 [==============================] - 27s 413ms/step - loss: 233.8434 - mae: 234.2964\n",
            "Epoch 59/500\n",
            "65/65 [==============================] - 27s 415ms/step - loss: 233.7653 - mae: 234.2168\n",
            "Epoch 60/500\n",
            "65/65 [==============================] - 27s 411ms/step - loss: 233.6907 - mae: 234.1461\n",
            "Epoch 61/500\n",
            "65/65 [==============================] - 26s 406ms/step - loss: 233.6359 - mae: 234.0914\n",
            "Epoch 62/500\n",
            "65/65 [==============================] - 26s 403ms/step - loss: 233.5339 - mae: 233.9913\n",
            "Epoch 63/500\n",
            "65/65 [==============================] - 26s 406ms/step - loss: 233.4456 - mae: 233.9016\n",
            "Epoch 64/500\n",
            "65/65 [==============================] - 26s 406ms/step - loss: 233.3386 - mae: 233.7952\n",
            "Epoch 65/500\n",
            "65/65 [==============================] - 27s 410ms/step - loss: 233.1988 - mae: 233.6556\n",
            "Epoch 66/500\n",
            "65/65 [==============================] - 32s 498ms/step - loss: 233.1016 - mae: 233.5601\n",
            "Epoch 67/500\n",
            "65/65 [==============================] - 27s 417ms/step - loss: 232.9778 - mae: 233.4346\n",
            "Epoch 68/500\n",
            "65/65 [==============================] - 27s 409ms/step - loss: 232.7656 - mae: 233.2204\n",
            "Epoch 69/500\n",
            "65/65 [==============================] - 26s 404ms/step - loss: 232.6100 - mae: 233.0659\n",
            "Epoch 70/500\n",
            "65/65 [==============================] - 26s 405ms/step - loss: 232.4533 - mae: 232.9081\n",
            "Epoch 71/500\n",
            "65/65 [==============================] - 26s 405ms/step - loss: 232.2896 - mae: 232.7436\n",
            "Epoch 72/500\n",
            "65/65 [==============================] - 27s 411ms/step - loss: 232.0385 - mae: 232.4886\n",
            "Epoch 73/500\n",
            "65/65 [==============================] - 26s 405ms/step - loss: 231.7393 - mae: 232.1888\n",
            "Epoch 74/500\n",
            "65/65 [==============================] - 26s 406ms/step - loss: 231.4818 - mae: 231.9278\n",
            "Epoch 75/500\n",
            "65/65 [==============================] - 26s 406ms/step - loss: 231.1925 - mae: 231.6365\n",
            "Epoch 76/500\n",
            "65/65 [==============================] - 26s 407ms/step - loss: 230.9224 - mae: 231.3653\n",
            "Epoch 77/500\n",
            "65/65 [==============================] - 26s 405ms/step - loss: 230.5670 - mae: 231.0025\n",
            "Epoch 78/500\n",
            "65/65 [==============================] - 27s 412ms/step - loss: 230.0307 - mae: 230.4635\n",
            "Epoch 79/500\n",
            "65/65 [==============================] - 27s 408ms/step - loss: 229.5752 - mae: 230.0048\n",
            "Epoch 80/500\n",
            "65/65 [==============================] - 27s 411ms/step - loss: 229.0444 - mae: 229.4712\n",
            "Epoch 81/500\n",
            "65/65 [==============================] - 27s 409ms/step - loss: 228.5856 - mae: 229.0108\n",
            "Epoch 82/500\n",
            "65/65 [==============================] - 27s 412ms/step - loss: 227.8710 - mae: 228.2925\n",
            "Epoch 83/500\n",
            "65/65 [==============================] - 27s 416ms/step - loss: 227.0914 - mae: 227.5096\n",
            "Epoch 84/500\n",
            "65/65 [==============================] - 26s 407ms/step - loss: 226.1435 - mae: 226.5614\n",
            "Epoch 85/500\n",
            "65/65 [==============================] - 27s 411ms/step - loss: 224.8419 - mae: 225.2585\n",
            "Epoch 86/500\n",
            "65/65 [==============================] - 26s 405ms/step - loss: 223.6968 - mae: 224.1143\n",
            "Epoch 87/500\n",
            "65/65 [==============================] - 26s 403ms/step - loss: 222.1775 - mae: 222.5988\n",
            "Epoch 88/500\n",
            "65/65 [==============================] - 30s 455ms/step - loss: 220.1552 - mae: 220.5808\n",
            "Epoch 89/500\n",
            "65/65 [==============================] - 30s 454ms/step - loss: 218.1907 - mae: 218.6181\n",
            "Epoch 90/500\n",
            "65/65 [==============================] - 27s 416ms/step - loss: 215.3135 - mae: 215.7458\n",
            "Epoch 91/500\n",
            "65/65 [==============================] - 27s 412ms/step - loss: 212.2108 - mae: 212.6423\n",
            "Epoch 92/500\n",
            "65/65 [==============================] - 27s 411ms/step - loss: 208.3320 - mae: 208.7686\n",
            "Epoch 93/500\n",
            "65/65 [==============================] - 27s 415ms/step - loss: 202.8929 - mae: 203.3322\n",
            "Epoch 94/500\n",
            "65/65 [==============================] - 27s 416ms/step - loss: 196.3941 - mae: 196.8379\n",
            "Epoch 95/500\n",
            "65/65 [==============================] - 27s 413ms/step - loss: 189.2781 - mae: 189.7274\n",
            "Epoch 96/500\n",
            "65/65 [==============================] - 27s 416ms/step - loss: 180.2081 - mae: 180.6605\n",
            "Epoch 97/500\n",
            "65/65 [==============================] - 27s 414ms/step - loss: 169.7465 - mae: 170.2029\n",
            "Epoch 98/500\n",
            "65/65 [==============================] - ETA: 0s - loss: 157.6840 - mae: 158.1395\n",
            "MAE dari model < 10% skala data\n",
            "65/65 [==============================] - 26s 406ms/step - loss: 157.6840 - mae: 158.1395\n"
          ],
          "name": "stdout"
        }
      ]
    },
    {
      "cell_type": "code",
      "metadata": {
        "id": "i9EoxeV8sk_Z",
        "outputId": "feca41b7-ba6e-4226-effc-03a593eb8792",
        "colab": {
          "base_uri": "https://localhost:8080/",
          "height": 295
        }
      },
      "source": [
        "plt.plot(history.history['mae'])\n",
        "plt.title('MAE')\n",
        "plt.ylabel('mae')\n",
        "plt.xlabel('epoch')\n",
        "plt.legend(['mae'], loc='upper left')\n",
        "plt.show()"
      ],
      "execution_count": 31,
      "outputs": [
        {
          "output_type": "display_data",
          "data": {
            "image/png": "[encoded data removed]",
            "text/plain": [
              "<Figure size 432x288 with 1 Axes>"
            ]
          },
          "metadata": {
            "tags": [],
            "needs_background": "light"
          }
        }
      ]
    }
  ]
}